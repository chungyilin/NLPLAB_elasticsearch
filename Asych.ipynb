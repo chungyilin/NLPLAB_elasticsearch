{
 "cells": [
  {
   "cell_type": "markdown",
   "metadata": {},
   "source": [
    "# Asych Test\n"
   ]
  },
  {
   "cell_type": "code",
   "execution_count": null,
   "metadata": {},
   "outputs": [],
   "source": [
    "\n",
    "import gevent.monkey\n",
    "from urllib.request import urlopen\n",
    "gevent.monkey.patch_all()\n",
    "urls = ['http://www.google.com', 'http://www.yandex.ru', 'http://www.python.org']\n",
    "\n",
    "def print_head(url):\n",
    "    print('Starting {}'.format(url))\n",
    "    data = urlopen(url).read()\n",
    "    print('{}: {} bytes: {}'.format(url, len(data), data))\n",
    "\n",
    "jobs = [gevent.spawn(print_head, _url) for _url in urls]\n",
    "\n",
    "gevent.wait(jobs)"
   ]
  },
  {
   "cell_type": "code",
   "execution_count": null,
   "metadata": {
    "collapsed": true
   },
   "outputs": [],
   "source": [
    "## <3.4\n",
    "\n",
    "\n",
    "# import asyncio\n",
    "# import aiohttp\n",
    "# import time\n",
    "\n",
    "# urls = ['http://www.google.com', 'http://www.yandex.ru', 'http://www.python.org']\n",
    "\n",
    "\n",
    "# start_time = time.time()\n",
    "\n",
    "# @asyncio.coroutine\n",
    "# def call_url(url):\n",
    "#     print('Starting {}'.format(url))\n",
    "#     response = yield from aiohttp.get(url)\n",
    "#     data = yield from response.text()\n",
    "#     print('{}: {} bytes: {}'.format(url, len(data), data))\n",
    "#     time.sleep(10)\n",
    "#     return data\n",
    "\n",
    "# futures = [call_url(url) for url in urls]\n",
    "\n",
    "# loop = asyncio.get_event_loop()\n",
    "# loop.run_until_complete(asyncio.wait(futures))\n",
    "\n",
    "# print(\"--- %s seconds ---\" % (time.time() - start_time))"
   ]
  },
  {
   "cell_type": "code",
   "execution_count": null,
   "metadata": {
    "collapsed": true
   },
   "outputs": [],
   "source": [
    "import time\n",
    "import gevent.monkey\n",
    "from urllib.request import urlopen\n",
    "\n",
    "\n",
    "start_time = time.time()\n",
    "gevent.monkey.patch_all()\n",
    "\n",
    "\n",
    "def check(i):\n",
    "    for x in range(5):\n",
    "        time.sleep(1)\n",
    "    print('Starting :',i)\n",
    "jobs = [gevent.spawn(check, i) for i in range(10)]\n",
    "\n",
    "gevent.wait(jobs)\n",
    "\n",
    "\n",
    "print(\"--- %s seconds ---\" % (time.time() - start_time))"
   ]
  },
  {
   "cell_type": "code",
   "execution_count": null,
   "metadata": {
    "collapsed": true
   },
   "outputs": [],
   "source": []
  },
  {
   "cell_type": "code",
   "execution_count": null,
   "metadata": {
    "collapsed": true
   },
   "outputs": [],
   "source": []
  }
 ],
 "metadata": {
  "kernelspec": {
   "display_name": "Python 3",
   "language": "python",
   "name": "python3"
  },
  "language_info": {
   "codemirror_mode": {
    "name": "ipython",
    "version": 3
   },
   "file_extension": ".py",
   "mimetype": "text/x-python",
   "name": "python",
   "nbconvert_exporter": "python",
   "pygments_lexer": "ipython3",
   "version": "3.6.1"
  }
 },
 "nbformat": 4,
 "nbformat_minor": 2
}
