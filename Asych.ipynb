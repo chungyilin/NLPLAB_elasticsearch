{
 "cells": [
  {
   "cell_type": "markdown",
   "metadata": {},
   "source": [
    "# Asych Test\n"
   ]
  },
  {
   "cell_type": "code",
   "execution_count": 3,
   "metadata": {},
   "outputs": [
    {
     "name": "stderr",
     "output_type": "stream",
     "text": [
      "Task exception was never retrieved\n",
      "future: <Task finished coro=<call_url() done, defined at <ipython-input-3-e70b5dcda623>:11> exception=AttributeError(\"module 'aiohttp' has no attribute 'get'\",)>\n",
      "Traceback (most recent call last):\n",
      "  File \"<ipython-input-3-e70b5dcda623>\", line 14, in call_url\n",
      "    response = yield from aiohttp.get(url)\n",
      "AttributeError: module 'aiohttp' has no attribute 'get'\n",
      "Task exception was never retrieved\n",
      "future: <Task finished coro=<call_url() done, defined at <ipython-input-3-e70b5dcda623>:11> exception=AttributeError(\"module 'aiohttp' has no attribute 'get'\",)>\n",
      "Traceback (most recent call last):\n",
      "  File \"<ipython-input-3-e70b5dcda623>\", line 14, in call_url\n",
      "    response = yield from aiohttp.get(url)\n",
      "AttributeError: module 'aiohttp' has no attribute 'get'\n",
      "Task exception was never retrieved\n",
      "future: <Task finished coro=<call_url() done, defined at <ipython-input-3-e70b5dcda623>:11> exception=AttributeError(\"module 'aiohttp' has no attribute 'get'\",)>\n",
      "Traceback (most recent call last):\n",
      "  File \"<ipython-input-3-e70b5dcda623>\", line 14, in call_url\n",
      "    response = yield from aiohttp.get(url)\n",
      "AttributeError: module 'aiohttp' has no attribute 'get'\n"
     ]
    },
    {
     "name": "stdout",
     "output_type": "stream",
     "text": [
      "Starting http://www.google.com\n",
      "Starting http://www.python.org\n",
      "Starting http://www.yandex.ru\n",
      "--- 0.00807809829711914 seconds ---\n"
     ]
    }
   ],
   "source": [
    "\n",
    "import asyncio\n",
    "import aiohttp\n",
    "import time\n",
    "\n",
    "urls = ['http://www.google.com', 'http://www.yandex.ru', 'http://www.python.org']\n",
    "\n",
    "\n",
    "start_time = time.time()\n",
    "\n",
    "@asyncio.coroutine\n",
    "def call_url(url):\n",
    "    print('Starting {}'.format(url))\n",
    "    response = yield from aiohttp.get(url)\n",
    "    data = yield from response.text()\n",
    "    print('{}: {} bytes: {}'.format(url, len(data), data))\n",
    "    time.sleep(10)\n",
    "    return data\n",
    "\n",
    "futures = [call_url(url) for url in urls]\n",
    "\n",
    "loop = asyncio.get_event_loop()\n",
    "loop.run_until_complete(asyncio.wait(futures))\n",
    "\n",
    "print(\"--- %s seconds ---\" % (time.time() - start_time))"
   ]
  },
  {
   "cell_type": "code",
   "execution_count": null,
   "metadata": {
    "collapsed": true
   },
   "outputs": [],
   "source": []
  }
 ],
 "metadata": {
  "kernelspec": {
   "display_name": "Python 3",
   "language": "python",
   "name": "python3"
  },
  "language_info": {
   "codemirror_mode": {
    "name": "ipython",
    "version": 3
   },
   "file_extension": ".py",
   "mimetype": "text/x-python",
   "name": "python",
   "nbconvert_exporter": "python",
   "pygments_lexer": "ipython3",
   "version": "3.6.1"
  }
 },
 "nbformat": 4,
 "nbformat_minor": 2
}
